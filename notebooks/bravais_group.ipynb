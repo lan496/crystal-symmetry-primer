{
 "cells": [
  {
   "cell_type": "code",
   "execution_count": 1,
   "metadata": {},
   "outputs": [],
   "source": [
    "from sympy import *"
   ]
  },
  {
   "cell_type": "code",
   "execution_count": 2,
   "metadata": {},
   "outputs": [],
   "source": [
    "init_printing()"
   ]
  },
  {
   "cell_type": "code",
   "execution_count": 3,
   "metadata": {},
   "outputs": [],
   "source": [
    "a, b = symbols(\"a b\")\n",
    "p, q, r, s = symbols(\"p q r s\", integer=True)\n",
    "W = Matrix([\n",
    "    [p, q],\n",
    "    [r, s],\n",
    "])"
   ]
  },
  {
   "cell_type": "markdown",
   "metadata": {},
   "source": [
    "## $pm$"
   ]
  },
  {
   "cell_type": "markdown",
   "metadata": {},
   "source": [
    "### Bravais group for general metric tensors"
   ]
  },
  {
   "cell_type": "code",
   "execution_count": 4,
   "metadata": {},
   "outputs": [],
   "source": [
    "G = Matrix([\n",
    "    [a ** 2, 0],\n",
    "    [0, b ** 2],\n",
    "])"
   ]
  },
  {
   "cell_type": "code",
   "execution_count": 5,
   "metadata": {},
   "outputs": [
    {
     "data": {
      "image/png": "[encoded data removed]",
      "text/latex": [
       "$\\displaystyle \\left[\\begin{matrix}a^{2} p^{2} - a^{2} + b^{2} r^{2} & a^{2} p q + b^{2} r s\\\\a^{2} p q + b^{2} r s & a^{2} q^{2} + b^{2} s^{2} - b^{2}\\end{matrix}\\right]$"
      ],
      "text/plain": [
       "⎡ 2  2    2    2  2    2        2      ⎤\n",
       "⎢a ⋅p  - a  + b ⋅r    a ⋅p⋅q + b ⋅r⋅s  ⎥\n",
       "⎢                                      ⎥\n",
       "⎢  2        2         2  2    2  2    2⎥\n",
       "⎣ a ⋅p⋅q + b ⋅r⋅s    a ⋅q  + b ⋅s  - b ⎦"
      ]
     },
     "execution_count": 5,
     "metadata": {},
     "output_type": "execute_result"
    }
   ],
   "source": [
    "simplify(W.T * G * W - G)"
   ]
  },
  {
   "cell_type": "code",
   "execution_count": 6,
   "metadata": {},
   "outputs": [
    {
     "data": {
      "image/png": "[encoded data removed]",
      "text/latex": [
       "$\\displaystyle \\left[\\begin{matrix}a^{2} p^{2} - a^{2} & 0\\\\0 & b^{2} s^{2} - b^{2}\\end{matrix}\\right]$"
      ],
      "text/plain": [
       "⎡ 2  2    2            ⎤\n",
       "⎢a ⋅p  - a       0     ⎥\n",
       "⎢                      ⎥\n",
       "⎢             2  2    2⎥\n",
       "⎣    0       b ⋅s  - b ⎦"
      ]
     },
     "execution_count": 6,
     "metadata": {},
     "output_type": "execute_result"
    }
   ],
   "source": [
    "# p^2 = s^2 = 1, q = r = 0\n",
    "simplify(W.T * G * W - G).subs([(q, 0), (r, 0)])"
   ]
  },
  {
   "cell_type": "markdown",
   "metadata": {},
   "source": [
    "### Bravais manifold"
   ]
  },
  {
   "cell_type": "code",
   "execution_count": 7,
   "metadata": {},
   "outputs": [],
   "source": [
    "g11, g12, g22 = symbols(\"g11 g12 g22\")\n",
    "M = Matrix([\n",
    "    [g11, g12],\n",
    "    [g12, g22],\n",
    "])"
   ]
  },
  {
   "cell_type": "code",
   "execution_count": 8,
   "metadata": {},
   "outputs": [
    {
     "data": {
      "image/png": "[encoded data removed]",
      "text/latex": [
       "$\\displaystyle \\left[\\begin{matrix}0 & 0\\\\0 & 0\\end{matrix}\\right]$"
      ],
      "text/plain": [
       "⎡0  0⎤\n",
       "⎢    ⎥\n",
       "⎣0  0⎦"
      ]
     },
     "execution_count": 8,
     "metadata": {},
     "output_type": "execute_result"
    }
   ],
   "source": [
    "W1_pm = Matrix([\n",
    "    [-1, 0],\n",
    "    [0, -1]\n",
    "])\n",
    "W1_pm.T * M * W1_pm - M"
   ]
  },
  {
   "cell_type": "code",
   "execution_count": 9,
   "metadata": {},
   "outputs": [
    {
     "data": {
      "image/png": "[encoded data removed]",
      "text/latex": [
       "$\\displaystyle \\left[\\begin{matrix}0 & - 2 g_{12}\\\\- 2 g_{12} & 0\\end{matrix}\\right]$"
      ],
      "text/plain": [
       "⎡  0     -2⋅g₁₂⎤\n",
       "⎢              ⎥\n",
       "⎣-2⋅g₁₂    0   ⎦"
      ]
     },
     "execution_count": 9,
     "metadata": {},
     "output_type": "execute_result"
    }
   ],
   "source": [
    "# g12 = 0\n",
    "W2_pm = Matrix([\n",
    "    [1, 0],\n",
    "    [0, -1]\n",
    "])\n",
    "W2_pm.T * M * W2_pm - M"
   ]
  },
  {
   "cell_type": "code",
   "execution_count": 10,
   "metadata": {},
   "outputs": [
    {
     "data": {
      "image/png": "[encoded data removed]",
      "text/latex": [
       "$\\displaystyle \\left[\\begin{matrix}0 & - 2 g_{12}\\\\- 2 g_{12} & 0\\end{matrix}\\right]$"
      ],
      "text/plain": [
       "⎡  0     -2⋅g₁₂⎤\n",
       "⎢              ⎥\n",
       "⎣-2⋅g₁₂    0   ⎦"
      ]
     },
     "execution_count": 10,
     "metadata": {},
     "output_type": "execute_result"
    }
   ],
   "source": [
    "W3_pm = Matrix([\n",
    "    [-1, 0],\n",
    "    [0, 1]\n",
    "])\n",
    "W3_pm.T * M * W3_pm - M"
   ]
  },
  {
   "cell_type": "markdown",
   "metadata": {},
   "source": [
    "## $cm$"
   ]
  },
  {
   "cell_type": "markdown",
   "metadata": {},
   "source": [
    "### Bravais group for general metric tensors"
   ]
  },
  {
   "cell_type": "code",
   "execution_count": 11,
   "metadata": {},
   "outputs": [
    {
     "data": {
      "image/png": "[encoded data removed]",
      "text/latex": [
       "$\\displaystyle \\left[\\begin{matrix}\\frac{a^{2}}{2} + \\frac{b^{2}}{2} & \\frac{a^{2}}{2} - \\frac{b^{2}}{2}\\\\\\frac{a^{2}}{2} - \\frac{b^{2}}{2} & \\frac{a^{2}}{2} + \\frac{b^{2}}{2}\\end{matrix}\\right]$"
      ],
      "text/plain": [
       "⎡ 2    2   2    2⎤\n",
       "⎢a    b   a    b ⎥\n",
       "⎢── + ──  ── - ──⎥\n",
       "⎢2    2   2    2 ⎥\n",
       "⎢                ⎥\n",
       "⎢ 2    2   2    2⎥\n",
       "⎢a    b   a    b ⎥\n",
       "⎢── - ──  ── + ──⎥\n",
       "⎣2    2   2    2 ⎦"
      ]
     },
     "execution_count": 11,
     "metadata": {},
     "output_type": "execute_result"
    }
   ],
   "source": [
    "# To primitive basis\n",
    "P = Matrix([\n",
    "    [Rational(1, 2), Rational(1, 2)],\n",
    "    [Rational(-1, 2), Rational(1, 2)],\n",
    "])\n",
    "Gp = P.inv() * G * P\n",
    "Gp"
   ]
  },
  {
   "cell_type": "code",
   "execution_count": 12,
   "metadata": {},
   "outputs": [
    {
     "data": {
      "image/png": "[encoded data removed]",
      "text/latex": [
       "$\\displaystyle a^{2} \\left(\\frac{p^{2}}{2} + p r + \\frac{r^{2}}{2} - \\frac{1}{2}\\right) + b^{2} \\left(\\frac{p^{2}}{2} - p r + \\frac{r^{2}}{2} - \\frac{1}{2}\\right)$"
      ],
      "text/plain": [
       "   ⎛ 2          2    ⎞      ⎛ 2          2    ⎞\n",
       " 2 ⎜p          r    1⎟    2 ⎜p          r    1⎟\n",
       "a ⋅⎜── + p⋅r + ── - ─⎟ + b ⋅⎜── - p⋅r + ── - ─⎟\n",
       "   ⎝2          2    2⎠      ⎝2          2    2⎠"
      ]
     },
     "execution_count": 12,
     "metadata": {},
     "output_type": "execute_result"
    }
   ],
   "source": [
    "# pr = 0\n",
    "# p^2 + r^2 = 1\n",
    "collect(expand(W.T * Gp * W - Gp)[0, 0], [a, b])"
   ]
  },
  {
   "cell_type": "code",
   "execution_count": 13,
   "metadata": {},
   "outputs": [
    {
     "data": {
      "image/png": "[encoded data removed]",
      "text/latex": [
       "$\\displaystyle a^{2} \\left(\\frac{q^{2}}{2} + q s + \\frac{s^{2}}{2} - \\frac{1}{2}\\right) + b^{2} \\left(\\frac{q^{2}}{2} - q s + \\frac{s^{2}}{2} - \\frac{1}{2}\\right)$"
      ],
      "text/plain": [
       "   ⎛ 2          2    ⎞      ⎛ 2          2    ⎞\n",
       " 2 ⎜q          s    1⎟    2 ⎜q          s    1⎟\n",
       "a ⋅⎜── + q⋅s + ── - ─⎟ + b ⋅⎜── - q⋅s + ── - ─⎟\n",
       "   ⎝2          2    2⎠      ⎝2          2    2⎠"
      ]
     },
     "execution_count": 13,
     "metadata": {},
     "output_type": "execute_result"
    }
   ],
   "source": [
    "# qs = 0\n",
    "# q^2 + s^2 = 1\n",
    "collect(expand(W.T * Gp * W - Gp)[1, 1], [a, b])"
   ]
  },
  {
   "cell_type": "code",
   "execution_count": 14,
   "metadata": {},
   "outputs": [
    {
     "data": {
      "image/png": "[encoded data removed]",
      "text/latex": [
       "$\\displaystyle a^{2} \\left(\\frac{p q}{2} + \\frac{p s}{2} + \\frac{q r}{2} + \\frac{r s}{2} - \\frac{1}{2}\\right) + b^{2} \\left(\\frac{p q}{2} - \\frac{p s}{2} - \\frac{q r}{2} + \\frac{r s}{2} + \\frac{1}{2}\\right)$"
      ],
      "text/plain": [
       " 2 ⎛p⋅q   p⋅s   q⋅r   r⋅s   1⎞    2 ⎛p⋅q   p⋅s   q⋅r   r⋅s   1⎞\n",
       "a ⋅⎜─── + ─── + ─── + ─── - ─⎟ + b ⋅⎜─── - ─── - ─── + ─── + ─⎟\n",
       "   ⎝ 2     2     2     2    2⎠      ⎝ 2     2     2     2    2⎠"
      ]
     },
     "execution_count": 14,
     "metadata": {},
     "output_type": "execute_result"
    }
   ],
   "source": [
    "# pq + rs = 0\n",
    "# ps + qr = 1\n",
    "collect(expand(W.T * Gp * W - Gp)[0, 1], [a, b])"
   ]
  },
  {
   "cell_type": "code",
   "execution_count": 15,
   "metadata": {},
   "outputs": [],
   "source": [
    "# (p, q, r, s) = (+/-1, 0, 0, +/-1), (0, +/-1, +/-1, 0)"
   ]
  },
  {
   "cell_type": "markdown",
   "metadata": {},
   "source": [
    "### Bravais manifold"
   ]
  },
  {
   "cell_type": "code",
   "execution_count": 16,
   "metadata": {},
   "outputs": [
    {
     "data": {
      "image/png": "[encoded data removed]",
      "text/latex": [
       "$\\displaystyle \\left[\\begin{matrix}- g_{11} + g_{22} & 0\\\\0 & g_{11} - g_{22}\\end{matrix}\\right]$"
      ],
      "text/plain": [
       "⎡-g₁₁ + g₂₂      0    ⎤\n",
       "⎢                     ⎥\n",
       "⎣    0       g₁₁ - g₂₂⎦"
      ]
     },
     "execution_count": 16,
     "metadata": {},
     "output_type": "execute_result"
    }
   ],
   "source": [
    "# g11 = g22\n",
    "W2_pm = Matrix([\n",
    "    [0, 1],\n",
    "    [1, 0]\n",
    "])\n",
    "W2_pm.T * M * W2_pm - M"
   ]
  },
  {
   "cell_type": "code",
   "execution_count": 17,
   "metadata": {},
   "outputs": [
    {
     "data": {
      "image/png": "[encoded data removed]",
      "text/latex": [
       "$\\displaystyle \\left[\\begin{matrix}- g_{11} + g_{22} & 0\\\\0 & g_{11} - g_{22}\\end{matrix}\\right]$"
      ],
      "text/plain": [
       "⎡-g₁₁ + g₂₂      0    ⎤\n",
       "⎢                     ⎥\n",
       "⎣    0       g₁₁ - g₂₂⎦"
      ]
     },
     "execution_count": 17,
     "metadata": {},
     "output_type": "execute_result"
    }
   ],
   "source": [
    "W3_pm = Matrix([\n",
    "    [0, -1],\n",
    "    [-1, 0]\n",
    "])\n",
    "W3_pm.T * M * W3_pm - M"
   ]
  },
  {
   "cell_type": "code",
   "execution_count": null,
   "metadata": {},
   "outputs": [],
   "source": []
  }
 ],
 "metadata": {
  "kernelspec": {
   "display_name": "Python 3.10.9 64-bit ('symmetry')",
   "language": "python",
   "name": "python3"
  },
  "language_info": {
   "codemirror_mode": {
    "name": "ipython",
    "version": 3
   },
   "file_extension": ".py",
   "mimetype": "text/x-python",
   "name": "python",
   "nbconvert_exporter": "python",
   "pygments_lexer": "ipython3",
   "version": "3.10.9"
  },
  "orig_nbformat": 4,
  "vscode": {
   "interpreter": {
    "hash": "1410a8c2eceec6469917ed8ba8430c423fba0b26ef8581c2cfa9443c98f510ce"
   }
  }
 },
 "nbformat": 4,
 "nbformat_minor": 2
}
